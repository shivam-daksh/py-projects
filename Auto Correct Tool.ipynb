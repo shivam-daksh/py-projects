{
 "cells": [
  {
   "cell_type": "code",
   "execution_count": null,
   "id": "1c63e9fa-c397-41a8-901e-137dc5acf2dc",
   "metadata": {},
   "outputs": [
    {
     "name": "stdin",
     "output_type": "stream",
     "text": [
      "Enter a word (or 'exit' to quit):  appel\n"
     ]
    },
    {
     "name": "stdout",
     "output_type": "stream",
     "text": [
      "Did you mean: apple\n"
     ]
    },
    {
     "name": "stdin",
     "output_type": "stream",
     "text": [
      "Enter a word (or 'exit' to quit):  garpe\n"
     ]
    },
    {
     "name": "stdout",
     "output_type": "stream",
     "text": [
      "Did you mean: grape\n"
     ]
    },
    {
     "name": "stdin",
     "output_type": "stream",
     "text": [
      "Enter a word (or 'exit' to quit):  iwik\n"
     ]
    },
    {
     "name": "stdout",
     "output_type": "stream",
     "text": [
      "Did you mean: kiwi\n"
     ]
    }
   ],
   "source": [
    "import difflib\n",
    "\n",
    "def create_word_list():\n",
    "    word_list = [\n",
    "        \"apple\", \"banana\", \"orange\", \"grape\", \"watermelon\", \"pineapple\",\n",
    "        \"strawberry\", \"blueberry\", \"mango\", \"kiwi\"\n",
    "    ]\n",
    "    return word_list\n",
    "\n",
    "def get_closest_word(input_word, word_list):\n",
    "    closest_word = difflib.get_close_matches(input_word, word_list, n=1)\n",
    "    return closest_word[0] if closest_word else None\n",
    "\n",
    "def main():\n",
    "    word_list = create_word_list()\n",
    "    while True:\n",
    "        input_word = input(\"Enter a word (or 'exit' to quit): \").lower()\n",
    "\n",
    "        if input_word == \"exit\":\n",
    "            break\n",
    "\n",
    "        closest_word = get_closest_word(input_word, word_list)\n",
    "\n",
    "        if closest_word:\n",
    "            print(f\"Did you mean: {closest_word}\")\n",
    "        else:\n",
    "            print(\"Word not found in the list. Please try again.\")\n",
    "\n",
    "if __name__ == \"__main__\":\n",
    "    main()\n"
   ]
  },
  {
   "cell_type": "code",
   "execution_count": null,
   "id": "188514ac-efcf-4e72-82e5-0a8a00456e39",
   "metadata": {},
   "outputs": [],
   "source": []
  }
 ],
 "metadata": {
  "kernelspec": {
   "display_name": "Python 3 (ipykernel)",
   "language": "python",
   "name": "python3"
  },
  "language_info": {
   "codemirror_mode": {
    "name": "ipython",
    "version": 3
   },
   "file_extension": ".py",
   "mimetype": "text/x-python",
   "name": "python",
   "nbconvert_exporter": "python",
   "pygments_lexer": "ipython3",
   "version": "3.11.4"
  }
 },
 "nbformat": 4,
 "nbformat_minor": 5
}
